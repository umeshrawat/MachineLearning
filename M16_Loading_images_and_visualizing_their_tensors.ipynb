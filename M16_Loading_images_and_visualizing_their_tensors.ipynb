{
  "nbformat": 4,
  "nbformat_minor": 0,
  "metadata": {
    "colab": {
      "provenance": [],
      "include_colab_link": true
    },
    "kernelspec": {
      "name": "python3",
      "display_name": "Python 3"
    },
    "language_info": {
      "name": "python"
    }
  },
  "cells": [
    {
      "cell_type": "markdown",
      "metadata": {
        "id": "view-in-github",
        "colab_type": "text"
      },
      "source": [
        "<a href=\"https://colab.research.google.com/github/umeshrawat/MachineLearning/blob/master/M16_Loading_images_and_visualizing_their_tensors.ipynb\" target=\"_parent\"><img src=\"https://colab.research.google.com/assets/colab-badge.svg\" alt=\"Open In Colab\"/></a>"
      ]
    },
    {
      "cell_type": "code",
      "execution_count": null,
      "metadata": {
        "id": "uXHXdy9Fl-aX"
      },
      "outputs": [],
      "source": [
        "import torch\n",
        "import torchvision\n",
        "import torchvision.transforms as transforms"
      ]
    },
    {
      "cell_type": "code",
      "source": [
        "transform = transforms.Compose(\n",
        "    [transforms.ToTensor(),\n",
        "     transforms.Normalize((0.5, 0.5, 0.5), (0.5, 0.5, 0.5))])\n",
        "\n",
        "batch_size = 4\n",
        "\n",
        "trainset = torchvision.datasets.CIFAR10(root='./data', train=True,\n",
        "                                        download=True, transform=transform)\n",
        "trainloader = torch.utils.data.DataLoader(trainset, batch_size=batch_size,\n",
        "                                          shuffle=True, num_workers=2)\n",
        "\n",
        "testset = torchvision.datasets.CIFAR10(root='./data', train=False,\n",
        "                                       download=True, transform=transform)\n",
        "testloader = torch.utils.data.DataLoader(testset, batch_size=batch_size,\n",
        "                                         shuffle=False, num_workers=2)\n",
        "\n",
        "classes = ('plane', 'car', 'bird', 'cat',\n",
        "           'deer', 'dog', 'frog', 'horse', 'ship', 'truck')"
      ],
      "metadata": {
        "colab": {
          "base_uri": "https://localhost:8080/"
        },
        "id": "L14QRikpm_D5",
        "outputId": "78aa5fa4-d3c9-4888-afc6-08336a43471d"
      },
      "execution_count": null,
      "outputs": [
        {
          "output_type": "stream",
          "name": "stdout",
          "text": [
            "Downloading https://www.cs.toronto.edu/~kriz/cifar-10-python.tar.gz to ./data/cifar-10-python.tar.gz\n"
          ]
        },
        {
          "output_type": "stream",
          "name": "stderr",
          "text": [
            "100%|██████████| 170498071/170498071 [00:01<00:00, 96204161.24it/s] \n"
          ]
        },
        {
          "output_type": "stream",
          "name": "stdout",
          "text": [
            "Extracting ./data/cifar-10-python.tar.gz to ./data\n",
            "Files already downloaded and verified\n"
          ]
        }
      ]
    },
    {
      "cell_type": "code",
      "source": [
        "import matplotlib.pyplot as plt\n",
        "import numpy as np\n",
        "\n",
        "# functions to show an image\n",
        "\n",
        "\n",
        "def imshow(img):\n",
        "    img = img / 2 + 0.5     # unnormalize\n",
        "    npimg = img.numpy()\n",
        "    plt.imshow(np.transpose(npimg, (1, 2, 0)))\n",
        "    plt.show()"
      ],
      "metadata": {
        "id": "Dgs7Ddx2nDYZ"
      },
      "execution_count": null,
      "outputs": []
    },
    {
      "cell_type": "code",
      "source": [
        "# get some random training images\n",
        "dataiter = iter(trainloader)\n",
        "images, labels = next(dataiter)"
      ],
      "metadata": {
        "id": "6qYHQc3MnH-B",
        "colab": {
          "base_uri": "https://localhost:8080/"
        },
        "outputId": "7979bf7c-09ea-4252-ce88-0041f2e465e2"
      },
      "execution_count": null,
      "outputs": [
        {
          "output_type": "stream",
          "name": "stderr",
          "text": [
            "/usr/lib/python3.10/multiprocessing/popen_fork.py:66: RuntimeWarning: os.fork() was called. os.fork() is incompatible with multithreaded code, and JAX is multithreaded, so this will likely lead to a deadlock.\n",
            "  self.pid = os.fork()\n"
          ]
        }
      ]
    },
    {
      "cell_type": "code",
      "source": [
        "type(images)"
      ],
      "metadata": {
        "colab": {
          "base_uri": "https://localhost:8080/"
        },
        "id": "lyxzT6-U89pR",
        "outputId": "7990bef5-2b98-4fff-e7c0-41321bb6edb4"
      },
      "execution_count": null,
      "outputs": [
        {
          "output_type": "execute_result",
          "data": {
            "text/plain": [
              "torch.Tensor"
            ]
          },
          "metadata": {},
          "execution_count": 5
        }
      ]
    },
    {
      "cell_type": "code",
      "source": [
        "images.shape"
      ],
      "metadata": {
        "colab": {
          "base_uri": "https://localhost:8080/"
        },
        "id": "yk-zSJOXnPAv",
        "outputId": "0fc287b6-d2db-4252-c9e6-cab81e610780"
      },
      "execution_count": null,
      "outputs": [
        {
          "output_type": "execute_result",
          "data": {
            "text/plain": [
              "torch.Size([4, 3, 32, 32])"
            ]
          },
          "metadata": {},
          "execution_count": 6
        }
      ]
    },
    {
      "cell_type": "code",
      "source": [
        "images.size()"
      ],
      "metadata": {
        "colab": {
          "base_uri": "https://localhost:8080/"
        },
        "id": "84pxefUU9ELT",
        "outputId": "a2076d0a-3e10-4f40-88cc-fb87da815c39"
      },
      "execution_count": null,
      "outputs": [
        {
          "output_type": "execute_result",
          "data": {
            "text/plain": [
              "torch.Size([4, 3, 32, 32])"
            ]
          },
          "metadata": {},
          "execution_count": 7
        }
      ]
    },
    {
      "cell_type": "code",
      "source": [
        "images[3].shape"
      ],
      "metadata": {
        "colab": {
          "base_uri": "https://localhost:8080/"
        },
        "id": "5VaekgaSnSMk",
        "outputId": "e6516420-2b71-48b6-c793-9d78f8207c15"
      },
      "execution_count": null,
      "outputs": [
        {
          "output_type": "execute_result",
          "data": {
            "text/plain": [
              "torch.Size([3, 32, 32])"
            ]
          },
          "metadata": {},
          "execution_count": 8
        }
      ]
    },
    {
      "cell_type": "code",
      "source": [
        "images[0][2][7][6]"
      ],
      "metadata": {
        "id": "w1hSQSRDLQHf",
        "colab": {
          "base_uri": "https://localhost:8080/"
        },
        "outputId": "de01471c-646c-4b52-9ea3-cff491fbe31f"
      },
      "execution_count": null,
      "outputs": [
        {
          "output_type": "execute_result",
          "data": {
            "text/plain": [
              "tensor(0.2314)"
            ]
          },
          "metadata": {},
          "execution_count": 9
        }
      ]
    },
    {
      "cell_type": "code",
      "source": [
        "# Find the blue color's intensity in pixel 7,6 in 1st image\n",
        "images[0][2][7][6]"
      ],
      "metadata": {
        "id": "7nAwlro1nWaa",
        "colab": {
          "base_uri": "https://localhost:8080/"
        },
        "outputId": "16957942-161f-4b9c-83da-e1d95ecbf79c"
      },
      "execution_count": null,
      "outputs": [
        {
          "output_type": "execute_result",
          "data": {
            "text/plain": [
              "tensor(0.2314)"
            ]
          },
          "metadata": {},
          "execution_count": 10
        }
      ]
    },
    {
      "cell_type": "code",
      "source": [
        "images[0,2,7,6]"
      ],
      "metadata": {
        "colab": {
          "base_uri": "https://localhost:8080/"
        },
        "id": "ivxYjtv0nr96",
        "outputId": "345ce987-fce0-49ea-f12f-b3baa6d81b2b"
      },
      "execution_count": null,
      "outputs": [
        {
          "output_type": "execute_result",
          "data": {
            "text/plain": [
              "tensor(0.2314)"
            ]
          },
          "metadata": {},
          "execution_count": 11
        }
      ]
    },
    {
      "cell_type": "code",
      "source": [
        "# show images\n",
        "imshow(torchvision.utils.make_grid(images))"
      ],
      "metadata": {
        "colab": {
          "base_uri": "https://localhost:8080/",
          "height": 193
        },
        "id": "N9EoKw20nsDg",
        "outputId": "b630a32b-f068-44ac-fe1c-c23e19baaf67"
      },
      "execution_count": null,
      "outputs": [
        {
          "output_type": "display_data",
          "data": {
            "text/plain": [
              "<Figure size 640x480 with 1 Axes>"
            ],
            "image/png": "[encoded data removed]"
          },
          "metadata": {}
        }
      ]
    },
    {
      "cell_type": "code",
      "source": [
        "print(images[0])"
      ],
      "metadata": {
        "id": "nG5TGAINnsTM",
        "colab": {
          "base_uri": "https://localhost:8080/"
        },
        "outputId": "f5b27284-49dd-44ed-bf6b-84b53b9e75f1"
      },
      "execution_count": null,
      "outputs": [
        {
          "output_type": "stream",
          "name": "stdout",
          "text": [
            "tensor([[[ 0.7412,  0.6549,  0.6078,  ...,  0.5059,  0.2627,  0.1373],\n",
            "         [ 0.6627,  0.6471,  0.6784,  ...,  0.5529,  0.4902,  0.3961],\n",
            "         [ 0.6706,  0.6471,  0.6157,  ...,  0.4902,  0.4667,  0.4431],\n",
            "         ...,\n",
            "         [ 0.5843,  0.5608,  0.5843,  ...,  0.1373, -0.0667, -0.0196],\n",
            "         [ 0.6078,  0.5529,  0.5294,  ..., -0.1137, -0.1137, -0.0745],\n",
            "         [ 0.4824,  0.3961,  0.4275,  ..., -0.0588, -0.0745, -0.0980]],\n",
            "\n",
            "        [[ 0.7020,  0.6157,  0.5686,  ...,  0.4667,  0.2314,  0.1137],\n",
            "         [ 0.6235,  0.6078,  0.6392,  ...,  0.4588,  0.4588,  0.3882],\n",
            "         [ 0.6314,  0.6078,  0.5765,  ...,  0.4039,  0.4431,  0.4510],\n",
            "         ...,\n",
            "         [ 0.4275,  0.4039,  0.4275,  ...,  0.0039, -0.1922, -0.1373],\n",
            "         [ 0.4431,  0.3961,  0.3725,  ..., -0.2078, -0.2157, -0.1686],\n",
            "         [ 0.3647,  0.2863,  0.3176,  ..., -0.1137, -0.1451, -0.1765]],\n",
            "\n",
            "        [[ 0.4588,  0.3804,  0.3333,  ...,  0.2235, -0.0824, -0.2078],\n",
            "         [ 0.3882,  0.3725,  0.4039,  ...,  0.2235,  0.1608,  0.0824],\n",
            "         [ 0.3961,  0.3725,  0.3412,  ...,  0.1529,  0.1529,  0.1608],\n",
            "         ...,\n",
            "         [-0.0510, -0.1137, -0.0745,  ..., -0.3569, -0.5922, -0.5294],\n",
            "         [-0.0118, -0.0980, -0.1059,  ..., -0.6235, -0.6314, -0.5608],\n",
            "         [-0.0353, -0.1529, -0.1059,  ..., -0.5765, -0.5843, -0.5765]]])\n"
          ]
        }
      ]
    },
    {
      "cell_type": "code",
      "source": [],
      "metadata": {
        "id": "a9uLrzf6jXZb"
      },
      "execution_count": null,
      "outputs": []
    },
    {
      "cell_type": "code",
      "source": [],
      "metadata": {
        "id": "UJc07OAUjrxV"
      },
      "execution_count": null,
      "outputs": []
    }
  ]
}